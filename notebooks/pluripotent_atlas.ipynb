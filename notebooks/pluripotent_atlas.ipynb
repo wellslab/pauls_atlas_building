{
 "cells": [
  {
   "cell_type": "code",
   "execution_count": 1,
   "metadata": {},
   "outputs": [],
   "source": [
    "import numpy as np\n",
    "import pandas as pd\n",
    "import sklearn\n",
    "import gc\n",
    "import functions\n",
    "import scipy"
   ]
  },
  {
   "cell_type": "code",
   "execution_count": 2,
   "metadata": {},
   "outputs": [],
   "source": [
    "def convert_symbols_to_ensembl(dataframe):\n",
    "\n",
    "    '''\n",
    "    Convert expression matrix from gene symbol indexed to ensembl id index\n",
    "\n",
    "    Parameters:\n",
    "    ----------\n",
    "\n",
    "    dataframe\n",
    "        Dataframe containing expression values, index as gene symbols\n",
    "\n",
    "    Returns:\n",
    "    -----------\n",
    "\n",
    "    dataframe\n",
    "        Expression dataframe with variables converted to ensembl ids\n",
    "\n",
    "    '''\n",
    "\n",
    "    conversion = pd.read_csv('/Users/pwangel/Data/ensembl_hg38.91/gene_to_symbol_ensembl91_human.tsv', sep='\\t', header=None, names=['ensembl', 'symbol'])\n",
    "    conversion.drop_duplicates(subset='symbol', keep=False, inplace=True)\n",
    "\n",
    "    dataframe  = dataframe.merge(conversion, how='left', left_index=True, right_on='symbol')\n",
    "\n",
    "    dataframe.set_index(['ensembl'], inplace=True)\n",
    "    dataframe.drop(columns=['symbol'], inplace=True)\n",
    "    dataframe = dataframe.loc[~dataframe.index.isnull()]\n",
    "\n",
    "    return dataframe"
   ]
  },
  {
   "cell_type": "code",
   "execution_count": 3,
   "metadata": {
    "scrolled": false
   },
   "outputs": [],
   "source": [
    "data        = pd.read_csv('/Users/pwangel/Downloads/pluripotent_atlas_data.tsv', sep='\\t', index_col=0)\n",
    "annotations = pd.read_csv('/Users/pwangel/Downloads/pluripotent_annotations.tsv', sep='\\t', index_col=0)\n",
    "\n",
    "annotations['display_metadata'] = annotations.generic_sample_type\n",
    "annotations = annotations.loc[annotations.Platform_Category!='Illumina V2']"
   ]
  },
  {
   "cell_type": "markdown",
   "metadata": {},
   "source": [
    "Temporary hack to include some externally processed data and see how the atlas would look"
   ]
  },
  {
   "cell_type": "code",
   "execution_count": 4,
   "metadata": {
    "scrolled": true
   },
   "outputs": [],
   "source": [
    "df1 = pd.read_csv('/Users/pwangel/Data/External_Data/GSE114873/GSE114873_Cufflinks_output_FPKM_and_Gene_Names.txt', sep='\\t', index_col=0)[['condition', 'replicate', 'raw_frags']]\n",
    "df1['sample_id'] = [i+'_'+j for i,j in zip(df1.condition.to_list(),df1.replicate.to_list())]\n",
    "df1.drop(labels=['condition', 'replicate'], axis=1, inplace=True)\n",
    "df1=df1.pivot(columns='sample_id')\n",
    "df1.columns = df1.columns.droplevel()\n",
    "df1 = convert_symbols_to_ensembl(df1)\n",
    "\n",
    "df2 = pd.read_csv('/Users/pwangel/Data/External_Data/GSE123055/GSE123055_counts.txt', sep='\\t', index_col=0)\n",
    "df2.drop(labels=['Unnamed: 52'], axis=1, inplace=True)\n",
    "\n",
    "#df3 = pd.read_csv('/Users/pwangel/Data/External_Data/GSE131551/GSE131551_human_bulk.raw_count_matrix.tsv', sep='\\t', index_col=0)\n",
    "#df3.drop(labels='geneID', axis=1, inplace=True)\n",
    "\n",
    "df3 = pd.read_csv('/Users/pwangel/Data/External_Data/GSE137295/GSE137295_All_Raw_CountData.csv', index_col=0)"
   ]
  },
  {
   "cell_type": "code",
   "execution_count": 5,
   "metadata": {},
   "outputs": [],
   "source": [
    "ext_annotations = pd.DataFrame(index=df1.columns.to_list()+df2.columns.to_list()+df3.columns.to_list())\n",
    "ext_annotations['Platform_Category']='RNASeq'\n",
    "ext_annotations['Dataset'] = ['GSE114873' for i in range(df1.shape[1])] +  ['GSE123055' for i in range(df2.shape[1])] + ['GSE137295' for i in range(df3.shape[1])]\n",
    "ext_annotations['generic_sample_type'] = 'Unannotated'\n",
    "ext_annotations['display_metadata']  = [str(i_dataset)+'<br>'+str(i_sample) for i_dataset, i_sample in zip(ext_annotations.Dataset.values, ext_annotations.index.values)]"
   ]
  },
  {
   "cell_type": "code",
   "execution_count": 6,
   "metadata": {
    "scrolled": true
   },
   "outputs": [
    {
     "name": "stderr",
     "output_type": "stream",
     "text": [
      "/Users/pwangel/anaconda3/envs/scanpy/lib/python3.7/site-packages/ipykernel_launcher.py:4: FutureWarning:\n",
      "\n",
      "Sorting because non-concatenation axis is not aligned. A future version\n",
      "of pandas will change to not sort by default.\n",
      "\n",
      "To accept the future behavior, pass 'sort=False'.\n",
      "\n",
      "To retain the current behavior and silence the warning, pass 'sort=True'.\n",
      "\n",
      "\n"
     ]
    }
   ],
   "source": [
    "datasets_to_keep = pd.read_csv('/Users/pwangel/Downloads/Pluripotency datasets in stemformatics - existing stemformatics data.tsv', sep='\\t')['Dataset'].values\n",
    "annotations = annotations.loc[np.in1d(annotations.Dataset, datasets_to_keep)]\n",
    "\n",
    "annotations = pd.concat([annotations, ext_annotations])\n",
    "data = data.merge(df1, how='inner', left_index=True, right_index=True)\n",
    "data = data.merge(df2, how='inner', left_index=True, right_index=True)\n",
    "data = data.merge(df3, how='inner', left_index=True, right_index=True)\n",
    "data = data[annotations.index]"
   ]
  },
  {
   "cell_type": "code",
   "execution_count": 7,
   "metadata": {},
   "outputs": [],
   "source": [
    "data = functions.transform_to_percentile(data)"
   ]
  },
  {
   "cell_type": "code",
   "execution_count": 13,
   "metadata": {},
   "outputs": [],
   "source": [
    "#genes = functions.calculate_platform_dependence(data, annotations)\n",
    "#genes.to_csv('/Users/pwangel/Downloads/pluripotent_atlas_genes_with_ext.tsv', sep='\\t')\n",
    "#genes = pd.read_csv('/Users/pwangel/Downloads/pluripotent_atlas_genes.tsv', sep='\\t')\n",
    "genes = pd.read_csv('/Users/pwangel/Downloads/pluripotent_atlas_genes_with_ext.tsv', sep='\\t') "
   ]
  },
  {
   "cell_type": "code",
   "execution_count": null,
   "metadata": {},
   "outputs": [],
   "source": [
    "pca        = sklearn.decomposition.PCA(n_components=10, svd_solver='full')\n",
    "pca.fit(functions.transform_to_percentile(data.loc[genes.Platform_VarFraction.values<=0.25]).transpose())\n",
    "pca_coords = pca.transform(functions.transform_to_percentile(data.loc[genes.Platform_VarFraction.values<=0.25]).transpose())"
   ]
  },
  {
   "cell_type": "code",
   "execution_count": 11,
   "metadata": {},
   "outputs": [],
   "source": [
    "pca_coords_ext = pca.transform(functions.transform_to_percentile(data.loc[genes.Platform_VarFraction.values<=0.25][ext_annotations.index]).transpose())"
   ]
  },
  {
   "cell_type": "code",
   "execution_count": 13,
   "metadata": {},
   "outputs": [],
   "source": [
    "functions.plot_pca([pca_coords, pca_coords_ext], [annotations, ext_annotations],pca, \\\n",
    "                   labels=['generic_sample_type', 'Platform_Category', 'Dataset'], colour_dict={}, pcs=[1,2,3], out_file='/Users/pwangel/Downloads/pluripotent_atlas_with_external.html')"
   ]
  },
  {
   "cell_type": "markdown",
   "metadata": {},
   "source": [
    "Now try to 'zoom in' on the pluripotent cells (isolate them by applying k means clustering)"
   ]
  },
  {
   "cell_type": "code",
   "execution_count": 14,
   "metadata": {},
   "outputs": [],
   "source": [
    "kmeans = sklearn.cluster.KMeans(n_clusters=4).fit(pca_coords)\n",
    "annotations['K Means'] = kmeans.labels_\n",
    "ext_annotations['K Means'] = annotations['K Means'].loc[ext_annotations.index]"
   ]
  },
  {
   "cell_type": "code",
   "execution_count": 15,
   "metadata": {},
   "outputs": [],
   "source": [
    "functions.plot_pca(pca_coords, annotations,pca, \\\n",
    "                   labels=['generic_sample_type', 'Platform_Category', 'Dataset', 'K Means'], colour_dict={}, pcs=[1,2,3], out_file='/Users/pwangel/Downloads/pluripotent_kmeans_atlas_with_external.html')"
   ]
  },
  {
   "cell_type": "code",
   "execution_count": 19,
   "metadata": {},
   "outputs": [],
   "source": [
    "pluripotent_annotations = annotations.loc[(annotations['K Means']==0) | np.in1d(annotations.Dataset.values, [7253, 7240, 7124, 7135, 'GSE137295', 'GSE123055', 'GSE114873'])]\n",
    "pluripotent_data = data[pluripotent_annotations.index]\n",
    "pluripotent_genes = functions.calculate_platform_dependence(pluripotent_data, pluripotent_annotations)\n",
    "pluripotent_genes.to_csv('/Users/pwangel/Downloads/pluripotent_only_atlas_genes_with_ext.tsv', sep='\\t')\n",
    "#pluripotent_genes = pd.read_csv('/Users/pwangel/Downloads/pluripotent_only_atlas_genes_with_ext.tsv', sep='\\t')"
   ]
  },
  {
   "cell_type": "code",
   "execution_count": 20,
   "metadata": {},
   "outputs": [
    {
     "data": {
      "text/plain": [
       "(423, 25)"
      ]
     },
     "execution_count": 20,
     "metadata": {},
     "output_type": "execute_result"
    }
   ],
   "source": [
    "pluripotent_annotations.to_csv('/Users/pwangel/Downloads/pluripotent_RNASeq_annotations.tsv', sep='\\t')\n",
    "pluripotent_annotations.loc[pluripotent_annotations.Platform_Category=='RNASeq'].shape"
   ]
  },
  {
   "cell_type": "code",
   "execution_count": 21,
   "metadata": {},
   "outputs": [],
   "source": [
    "pca        = sklearn.decomposition.PCA(n_components=10, svd_solver='full')\n",
    "pca.fit(functions.transform_to_percentile(pluripotent_data.loc[pluripotent_genes.Platform_VarFraction.values<=0.2]).transpose())\n",
    "pca_coords = pca.transform(functions.transform_to_percentile(pluripotent_data.loc[pluripotent_genes.Platform_VarFraction.values<=0.2]).transpose())"
   ]
  },
  {
   "cell_type": "code",
   "execution_count": 22,
   "metadata": {},
   "outputs": [],
   "source": [
    "functions.plot_pca(pca_coords, pluripotent_annotations,pca, \\\n",
    "                   labels=['generic_sample_type', 'Platform_Category', 'Dataset'], colour_dict={}, pcs=[1,2,3], out_file='/Users/pwangel/Downloads/pluripotent_only_atlas_with_external.html')"
   ]
  },
  {
   "cell_type": "code",
   "execution_count": null,
   "metadata": {},
   "outputs": [],
   "source": []
  }
 ],
 "metadata": {
  "kernelspec": {
   "display_name": "Python 3",
   "language": "python",
   "name": "python3"
  },
  "language_info": {
   "codemirror_mode": {
    "name": "ipython",
    "version": 3
   },
   "file_extension": ".py",
   "mimetype": "text/x-python",
   "name": "python",
   "nbconvert_exporter": "python",
   "pygments_lexer": "ipython3",
   "version": "3.7.5"
  }
 },
 "nbformat": 4,
 "nbformat_minor": 4
}
