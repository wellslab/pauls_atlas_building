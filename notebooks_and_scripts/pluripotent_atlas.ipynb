{
 "cells": [
  {
   "cell_type": "markdown",
   "metadata": {},
   "source": [
    "This notebook is an overview and walkthough of the nascent pluripotency atlas. \n",
    "\n",
    "The prerequisites for creating the atlas are a) gene expression data for each sample, and b) metadata for each sample containing at a minimum the experimental platform the sample was measured on. These two files are usually called 'data' and 'annotations' respectively. \n",
    "\n",
    "This notebook also reads in some externally processed data, which we hope to process ourselves and include in the near future. These external datasets are recognisable by the GSE in their filename."
   ]
  },
  {
   "cell_type": "code",
   "execution_count": 1,
   "metadata": {
    "scrolled": true
   },
   "outputs": [],
   "source": [
    "import numpy as np\n",
    "import pandas as pd\n",
    "import sklearn\n",
    "import functions\n",
    "from general_processing.process_functions import convert_symbols_to_ensembl "
   ]
  },
  {
   "cell_type": "markdown",
   "metadata": {},
   "source": [
    "Reading in expression data and metadata (annotations.tsv). For plotting, a 'display_metadata' field is required in the annotations dataframe, so I have used a temporary column here, the 'generic_sample_type'. To see the format of these dataframes just have a look at the example .tsv files I have here."
   ]
  },
  {
   "cell_type": "code",
   "execution_count": 60,
   "metadata": {
    "scrolled": false
   },
   "outputs": [],
   "source": [
    "data        = pd.read_csv('../data/pluripotent_atlas_data.tsv', sep='\\t', index_col=0)\n",
    "annotations = pd.read_csv('../data/pluripotent_annotations.tsv', sep='\\t', index_col=0)\n",
    "data = data[annotations.index]\n",
    "\n",
    "lizzis_anno    = pd.read_csv('/Users/pwangel/PlotlyWorkspace/combine_data/naive_stemcells/stemcell_annotations.tsv', sep='\\t', index_col=0)\n",
    "#lizzis_anno.index = [str(i)+\";\"+str(j) for i, j in zip(lizzis_anno.chip_id, lizzis_anno.Dataset.astype(int))]\n",
    "annotations = annotations.merge(lizzis_anno[['LM_Group_COLOR']], how='left', left_index=True, right_index=True)\n",
    "annotations.LM_Group_COLOR = annotations[['LM_Group_COLOR']].fillna(\"Unannotated\")\n",
    "annotations.index = [str(int(i))+'_'+str(j) for i,j in zip(annotations.Dataset, annotations.chip_id)]\n",
    "data.columns = annotations.index\n",
    "\n",
    "day_anno = pd.read_csv('/Users/pwangel/Downloads/pluripotent_anno_feeder_day_year.tsv', sep='\\t', index_col=0)\n",
    "annotations = annotations.merge(day_anno[['Day', 'Year','Feeder']], how='left', left_index=True, right_index=True)\n",
    "\n",
    "annotations['display_metadata'] = annotations.generic_sample_type\n",
    "#annotations = annotations.loc[annotations.Platform_Category!='Illumina V2']"
   ]
  },
  {
   "cell_type": "code",
   "execution_count": 56,
   "metadata": {
    "scrolled": false
   },
   "outputs": [
    {
     "data": {
      "text/plain": [
       "(3713, 28)"
      ]
     },
     "execution_count": 56,
     "metadata": {},
     "output_type": "execute_result"
    }
   ],
   "source": [
    "annotations.shape"
   ]
  },
  {
   "cell_type": "markdown",
   "metadata": {},
   "source": [
    "This is a temporary hack to include some externally processed data and see how the atlas would look. They look good so I recommend they be processed with the stemformatics pipeline and included. I have not placed the external data into my git repo, it would be simpler just to process with s4m pipeline."
   ]
  },
  {
   "cell_type": "code",
   "execution_count": 61,
   "metadata": {
    "scrolled": true
   },
   "outputs": [],
   "source": [
    "df1 = pd.read_csv('/Users/pwangel/Data/External_Data/GSE114873/GSE114873_Cufflinks_output_FPKM_and_Gene_Names.txt', sep='\\t', index_col=0)[['condition', 'replicate', 'raw_frags']]\n",
    "df1['sample_id'] = [i+'_'+j for i,j in zip(df1.condition.to_list(),df1.replicate.to_list())]\n",
    "df1.drop(labels=['condition', 'replicate'], axis=1, inplace=True)\n",
    "df1=df1.pivot(columns='sample_id')\n",
    "df1.columns = df1.columns.droplevel()\n",
    "df1 = convert_symbols_to_ensembl(df1)\n",
    "\n",
    "df2 = pd.read_csv('/Users/pwangel/Data/External_Data/GSE123055/GSE123055_counts.txt', sep='\\t', index_col=0)\n",
    "df2.drop(labels=['Unnamed: 52'], axis=1, inplace=True)\n",
    "\n",
    "#This dataset is weird, not using it\n",
    "#df3 = pd.read_csv('/Users/pwangel/Data/External_Data/GSE131551/GSE131551_human_bulk.raw_count_matrix.tsv', sep='\\t', index_col=0)\n",
    "#df3.drop(labels='geneID', axis=1, inplace=True)\n",
    "\n",
    "df3 = pd.read_csv('/Users/pwangel/Data/External_Data/GSE137295/GSE137295_All_Raw_CountData.csv', index_col=0)\n",
    "\n",
    "df4 = pd.read_csv('/Users/pwangel/Data/External_Data/GSE167089/GSE167089_counts.tsv', sep='\\t',index_col=0)"
   ]
  },
  {
   "cell_type": "markdown",
   "metadata": {},
   "source": [
    "As these external datasets do not have metadata, I created my own temporary external annotations dataframe."
   ]
  },
  {
   "cell_type": "code",
   "execution_count": 62,
   "metadata": {},
   "outputs": [],
   "source": [
    "ext_annotations = pd.DataFrame(index=df1.columns.to_list()+df2.columns.to_list()+df3.columns.to_list()+df4.columns.to_list())\n",
    "ext_annotations['Platform_Category']='RNASeq'\n",
    "ext_annotations['Dataset'] = ['GSE114873' for i in range(df1.shape[1])] + ['GSE123055' for i in range(df2.shape[1])]\\\n",
    "                           + ['GSE137295' for i in range(df3.shape[1])] + ['GSE167089' for i in range(df4.shape[1])]\n",
    "ext_annotations['generic_sample_type'] = 'Unannotated'\n",
    "ext_annotations['display_metadata']  = [str(i_dataset)+'<br>'+str(i_sample) for i_dataset, i_sample in zip(ext_annotations.Dataset.values, ext_annotations.index.values)]"
   ]
  },
  {
   "cell_type": "markdown",
   "metadata": {},
   "source": [
    "Refine the data to only include those datasets appearing in the collabrorative annotations google docs file shared by the the biologists working on the project. These are the datasets of biological interest.\n",
    "\n",
    "Also include the externally processed data in this step."
   ]
  },
  {
   "cell_type": "code",
   "execution_count": 63,
   "metadata": {
    "scrolled": false
   },
   "outputs": [],
   "source": [
    "#This tsv has the datasets of biological interest\n",
    "datasets_to_keep = pd.read_csv('../data/Pluripotency datasets in stemformatics - existing stemformatics data.tsv', sep='\\t')['Dataset'].values\n",
    "annotations = annotations.loc[np.in1d(annotations.Dataset, datasets_to_keep)]\n",
    "\n",
    "annotations = pd.concat([annotations, ext_annotations], sort=True)\n",
    "data = data.merge(df1, how='inner', left_index=True, right_index=True)\n",
    "data = data.merge(df2, how='inner', left_index=True, right_index=True)\n",
    "data = data.merge(df3, how='inner', left_index=True, right_index=True)\n",
    "data = data.merge(df4, how='inner', left_index=True, right_index=True)\n",
    "data = data[annotations.index]"
   ]
  },
  {
   "cell_type": "markdown",
   "metadata": {},
   "source": [
    "Before we make the atlas, we will do some simple analysis on the data. In particular I would like to see the distribution of experimental platform. It would also be nice to see the cell type distributions, but without the proper metadata it is difficult"
   ]
  },
  {
   "cell_type": "code",
   "execution_count": 66,
   "metadata": {
    "scrolled": false
   },
   "outputs": [
    {
     "name": "stdout",
     "output_type": "stream",
     "text": [
      "Platform_Category\n",
      "Agilent            9\n",
      "HG-U133_Plus_2    40\n",
      "HuGene            25\n",
      "Illumina V2        4\n",
      "Illumina V3       15\n",
      "Illumina V4       17\n",
      "RNASeq            34\n",
      "dtype: int64\n"
     ]
    }
   ],
   "source": [
    "with pd.option_context('display.max_rows', None, 'display.max_columns', None):\n",
    "    print(annotations[['Dataset', 'Platform_Category']].drop_duplicates().groupby('Platform_Category').size())"
   ]
  },
  {
   "cell_type": "code",
   "execution_count": 67,
   "metadata": {
    "scrolled": true
   },
   "outputs": [
    {
     "name": "stdout",
     "output_type": "stream",
     "text": [
      "Platform_Category\n",
      "Agilent            418\n",
      "HG-U133_Plus_2     580\n",
      "HuGene             380\n",
      "Illumina V2         90\n",
      "Illumina V3        194\n",
      "Illumina V4       1225\n",
      "RNASeq             762\n",
      "dtype: int64\n"
     ]
    }
   ],
   "source": [
    "with pd.option_context('display.max_rows', None, 'display.max_columns', None):\n",
    "    print(annotations.groupby(['Platform_Category']).size())"
   ]
  },
  {
   "cell_type": "markdown",
   "metadata": {},
   "source": [
    "Now to actually make the atlas. First step in the atlas two step process: transform expression values to percentile values."
   ]
  },
  {
   "cell_type": "code",
   "execution_count": 64,
   "metadata": {},
   "outputs": [],
   "source": [
    "data = functions.transform_to_percentile(data)"
   ]
  },
  {
   "cell_type": "markdown",
   "metadata": {},
   "source": [
    "Second step: model the influence of platform upon expression for each gene. As this can take a while, I often save the results and just read them in rather than recompute them. In this case the results are saved in 'pluripotent_atlas_genes_with_ext.tsv'."
   ]
  },
  {
   "cell_type": "code",
   "execution_count": 28,
   "metadata": {},
   "outputs": [],
   "source": [
    "#genes = functions.calculate_platform_dependence(data, annotations)\n",
    "#genes.to_csv('../data/pluripotent_atlas_genes_with_ext.tsv', sep='\\t')\n",
    "#genes = pd.read_csv('../data/pluripotent_atlas_genes.tsv', sep='\\t')\n",
    "genes = pd.read_csv('../data/pluripotent_atlas_genes_with_ext.tsv', sep='\\t') "
   ]
  },
  {
   "cell_type": "markdown",
   "metadata": {},
   "source": [
    "Run the PCA on the expression data of the filtered, transformed genes. The value of the gene filter threshold is 0.25. I have not looked closely at this value. Perhaps a higher value would allow more components into the PCA. "
   ]
  },
  {
   "cell_type": "code",
   "execution_count": 65,
   "metadata": {},
   "outputs": [],
   "source": [
    "pca        = sklearn.decomposition.PCA(n_components=10, svd_solver='full')\n",
    "pca.fit(functions.transform_to_percentile(data.loc[genes.Platform_VarFraction.values<=0.25]).transpose())\n",
    "pca_coords = pca.transform(functions.transform_to_percentile(data.loc[genes.Platform_VarFraction.values<=0.25]).transpose())"
   ]
  },
  {
   "cell_type": "markdown",
   "metadata": {},
   "source": [
    "I generate a separate set of coordinates for the external data as I would like to project them by themselves. The way this works in that a list of data/annotations dataframes is passed to the plot function. The first set of data/annotations is the base and subsequent sets are projected on. The plot the pca is saved as a .html in the <out_file> location."
   ]
  },
  {
   "cell_type": "code",
   "execution_count": 68,
   "metadata": {},
   "outputs": [],
   "source": [
    "pca_coords_ext = pca.transform(functions.transform_to_percentile(data.loc[genes.Platform_VarFraction.values<=0.25][ext_annotations.index]).transpose())\n",
    "\n",
    "#First dataframes in the list of the base coordinates, following dataframes are projected on\n",
    "functions.plot_pca([pca_coords, pca_coords_ext], [annotations, ext_annotations],pca, \\\n",
    "                   labels=['generic_sample_type', 'Platform_Category', 'Dataset'], colour_dict={}, pcs=[1,2,3], \\\n",
    "                   out_file='/Users/pwangel/Downloads/pluripotent_atlas_with_external.html')"
   ]
  },
  {
   "cell_type": "markdown",
   "metadata": {},
   "source": [
    "Now try to 'zoom in' on the pluripotent cells (isolate them by applying k means clustering). This is a fairly rough way to identify the samples that are relevant to the 'naive' vs 'primed' analysis. I want stem cells only, no differentiated samples, this is best cleared up by the biological annotations but k means will do for now."
   ]
  },
  {
   "cell_type": "code",
   "execution_count": 69,
   "metadata": {},
   "outputs": [],
   "source": [
    "kmeans = sklearn.cluster.KMeans(n_clusters=4).fit(pca_coords)\n",
    "annotations['K Means'] = kmeans.labels_\n",
    "ext_annotations['K Means'] = annotations['K Means'].loc[ext_annotations.index]"
   ]
  },
  {
   "cell_type": "markdown",
   "metadata": {},
   "source": [
    "Plot the PCA again but now with the kmeans clusters, so we can identify the biology of each cluster."
   ]
  },
  {
   "cell_type": "code",
   "execution_count": 70,
   "metadata": {},
   "outputs": [],
   "source": [
    "functions.plot_pca(pca_coords, annotations,pca, \\\n",
    "                   labels=['generic_sample_type', 'Platform_Category', 'Dataset', 'K Means', 'LM_Group_COLOR'], \\\n",
    "                   colour_dict={\"Unannotated\":'grey'}, pcs=[1,2,3], \\\n",
    "                   out_file='/Users/pwangel/Downloads/pluripotent_kmeans_atlas_with_external.html')"
   ]
  },
  {
   "cell_type": "markdown",
   "metadata": {},
   "source": [
    "Essentially a repeat of the previous process to generate an atlas, but now selecting only stem cells first. WARNING: the number label of the stemcells group in the kmeans clustering is random each time you run it. "
   ]
  },
  {
   "cell_type": "code",
   "execution_count": 71,
   "metadata": {},
   "outputs": [],
   "source": [
    "pluripotent_annotations = annotations.loc[(annotations['K Means']==0) | np.in1d(annotations.Dataset.values, [7253, 7240, 7124, 7135, 'GSE137295', 'GSE123055', 'GSE114873', 'GSE167089'])]\n",
    "pluripotent_data = data[pluripotent_annotations.index]\n",
    "#pluripotent_genes = functions.calculate_platform_dependence(pluripotent_data, pluripotent_annotations)\n",
    "#pluripotent_genes.to_csv('../data/pluripotent_only_atlas_genes_with_ext.tsv', sep='\\t')\n",
    "pluripotent_genes = pd.read_csv('../data/pluripotent_only_atlas_genes_with_ext.tsv', sep='\\t')"
   ]
  },
  {
   "cell_type": "code",
   "execution_count": 72,
   "metadata": {},
   "outputs": [
    {
     "name": "stdout",
     "output_type": "stream",
     "text": [
      "Platform_Category\n",
      "Agilent            9\n",
      "HG-U133_Plus_2    34\n",
      "HuGene            19\n",
      "Illumina V2        4\n",
      "Illumina V3       15\n",
      "Illumina V4       12\n",
      "RNASeq            27\n",
      "dtype: int64\n"
     ]
    }
   ],
   "source": [
    "with pd.option_context('display.max_rows', None, 'display.max_columns', None):\n",
    "    print(pluripotent_annotations[['Dataset', 'Platform_Category']].drop_duplicates().groupby('Platform_Category').size())"
   ]
  },
  {
   "cell_type": "code",
   "execution_count": 73,
   "metadata": {
    "scrolled": true
   },
   "outputs": [
    {
     "name": "stdout",
     "output_type": "stream",
     "text": [
      "Platform_Category\n",
      "Agilent           253\n",
      "HG-U133_Plus_2    365\n",
      "HuGene            202\n",
      "Illumina V2        67\n",
      "Illumina V3       119\n",
      "Illumina V4       616\n",
      "RNASeq            438\n",
      "dtype: int64\n"
     ]
    }
   ],
   "source": [
    "with pd.option_context('display.max_rows', None, 'display.max_columns', None):\n",
    "    print(pluripotent_annotations.groupby(['Platform_Category']).size())"
   ]
  },
  {
   "cell_type": "code",
   "execution_count": 74,
   "metadata": {
    "scrolled": false
   },
   "outputs": [
    {
     "data": {
      "text/plain": [
       "induced pluripotent stem cell       1059\n",
       "embryonic stem cell                  372\n",
       "Unannotated                          119\n",
       "ESC                                  105\n",
       "iPSC                                  59\n",
       "ESC-derived endoderm                  50\n",
       "Sample Type                           33\n",
       "ESC-derived neuron                    28\n",
       "pluripotent                           25\n",
       "ESC-derived NP                        21\n",
       "NCC                                   17\n",
       "mesoderm                              14\n",
       "EB                                    13\n",
       "iPSC-derived endoderm                 13\n",
       "endoderm                               9\n",
       "cardiac cell fate commitment           9\n",
       "ESC-derived FP                         9\n",
       "iPSC-intermediate                      8\n",
       "ESC-derived primitive streak           7\n",
       "ESC-derived foregut                    6\n",
       "NP                                     6\n",
       "ESC-derived¬†precardiac mesoderm       6\n",
       "hepatocyte                             5\n",
       "EFO:0004905                            4\n",
       "ESC-derived mesendoderm                4\n",
       "endothelial cell                       4\n",
       "hESC neural differentiationday 0       4\n",
       "iPSC-derived trophoectoderm            4\n",
       "ESC-derived hepatocyte                 4\n",
       "ESC with CRX reporter                  3\n",
       "ESC-derived trophectoderm              3\n",
       "HNES3                                  3\n",
       "AT30 A-T iPSC line                     3\n",
       "ESC-derived mesoderm                   3\n",
       "ESC-derived neuroectoderm              3\n",
       "C11 iPSC control line                  3\n",
       "ESC-derived midgut                     3\n",
       "cardiac progenitor                     2\n",
       "hESC_test_d0                           2\n",
       "macrophage                             2\n",
       "CP                                     2\n",
       "ECC                                    2\n",
       "iPSC-derived hepatocyte                2\n",
       "endoderm progenitor                    2\n",
       "HNES2                                  2\n",
       "ESC-derived¬†trophoectoderm            2\n",
       "iPSC-derived MSC                       1\n",
       "Name: generic_sample_type, dtype: int64"
      ]
     },
     "execution_count": 74,
     "metadata": {},
     "output_type": "execute_result"
    }
   ],
   "source": [
    "pluripotent_annotations.generic_sample_type.value_counts()"
   ]
  },
  {
   "cell_type": "code",
   "execution_count": 23,
   "metadata": {},
   "outputs": [
    {
     "name": "stdout",
     "output_type": "stream",
     "text": [
      "Platform_Category  generic_sample_type             \n",
      "Agilent            EB                                    9\n",
      "                   ECC                                   2\n",
      "                   ESC                                   1\n",
      "                   ESC-derived endoderm                  3\n",
      "                   ESC-derived primitive streak          4\n",
      "                   embryonic stem cell                  43\n",
      "                   iPSC-intermediate                     8\n",
      "                   induced pluripotent stem cell       181\n",
      "                   macrophage                            2\n",
      "HG-U133_Plus_2     EB                                    4\n",
      "                   ESC                                   2\n",
      "                   ESC-derived NP                        6\n",
      "                   ESC-derived endoderm                 18\n",
      "                   ESC-derived foregut                   6\n",
      "                   ESC-derived hepatocyte                4\n",
      "                   ESC-derived mesendoderm               4\n",
      "                   ESC-derived mesoderm                  1\n",
      "                   ESC-derived midgut                    3\n",
      "                   ESC-derived neuroectoderm             3\n",
      "                   ESC-derived primitive streak          3\n",
      "                   ESC-derived trophectoderm             3\n",
      "                   NP                                    6\n",
      "                   embryonic stem cell                 128\n",
      "                   iPSC                                  4\n",
      "                   iPSC-derived hepatocyte               2\n",
      "                   induced pluripotent stem cell       147\n",
      "                   mesoderm                              2\n",
      "                   pluripotent                          19\n",
      "HuGene             ESC-derived endoderm                  5\n",
      "                   ESC-derived¬†trophoectoderm           2\n",
      "                   NCC                                   1\n",
      "                   embryonic stem cell                  62\n",
      "                   iPSC                                 18\n",
      "                   iPSC-derived MSC                      1\n",
      "                   iPSC-derived endoderm                13\n",
      "                   iPSC-derived trophoectoderm           4\n",
      "                   induced pluripotent stem cell        90\n",
      "                   pluripotent                           6\n",
      "Illumina V2        ESC-derived FP                        9\n",
      "                   ESC-derived NP                       15\n",
      "                   ESC-derived mesoderm                  2\n",
      "                   embryonic stem cell                  41\n",
      "Illumina V3        ESC-derived endoderm                 24\n",
      "                   embryonic stem cell                  54\n",
      "                   induced pluripotent stem cell        41\n",
      "Illumina V4        ESC-derived neuron                   28\n",
      "                   ESC-derived¬†precardiac mesoderm      6\n",
      "                   NCC                                  16\n",
      "                   cardiac cell fate commitment          9\n",
      "                   embryonic stem cell                  28\n",
      "                   endoderm progenitor                   2\n",
      "                   induced pluripotent stem cell       527\n",
      "RNASeq             AT30 A-T iPSC line                    3\n",
      "                   C11 iPSC control line                 3\n",
      "                   CP                                    2\n",
      "                   EFO:0004905                           4\n",
      "                   ESC                                 102\n",
      "                   ESC with CRX reporter                 3\n",
      "                   HNES2                                 2\n",
      "                   HNES3                                 3\n",
      "                   Sample Type                          33\n",
      "                   Unannotated                         119\n",
      "                   cardiac progenitor                    2\n",
      "                   embryonic stem cell                  16\n",
      "                   endoderm                              9\n",
      "                   endothelial cell                      4\n",
      "                   hESC neural differentiationday 0      4\n",
      "                   hESC_test_d0                          2\n",
      "                   hepatocyte                            5\n",
      "                   iPSC                                 37\n",
      "                   induced pluripotent stem cell        73\n",
      "                   mesoderm                             12\n",
      "dtype: int64\n"
     ]
    }
   ],
   "source": [
    "with pd.option_context('display.max_rows', None, 'display.max_columns', None):\n",
    "    print(pluripotent_annotations.groupby(['Platform_Category','generic_sample_type']).size())"
   ]
  },
  {
   "cell_type": "markdown",
   "metadata": {},
   "source": [
    "Save this subset for future fun"
   ]
  },
  {
   "cell_type": "code",
   "execution_count": 14,
   "metadata": {},
   "outputs": [],
   "source": [
    "pluripotent_annotations.to_csv('../data/pluripotent_RNASeq_annotations.tsv', sep='\\t')"
   ]
  },
  {
   "cell_type": "markdown",
   "metadata": {},
   "source": [
    "Run the PCA again, using a threshold of 0.2. The general pattern with these thresholds is that the narrower the biological range of samples is, the stricter the threshold must be. Lower biological variation means a greater fraction of platform variation."
   ]
  },
  {
   "cell_type": "code",
   "execution_count": 75,
   "metadata": {},
   "outputs": [],
   "source": [
    "pca        = sklearn.decomposition.PCA(n_components=10, svd_solver='full')\n",
    "pca.fit(functions.transform_to_percentile(pluripotent_data.loc[pluripotent_genes.Platform_VarFraction.values<=0.2]).transpose())\n",
    "pca_coords = pca.transform(functions.transform_to_percentile(pluripotent_data.loc[pluripotent_genes.Platform_VarFraction.values<=0.2]).transpose())"
   ]
  },
  {
   "cell_type": "code",
   "execution_count": 76,
   "metadata": {},
   "outputs": [
    {
     "data": {
      "text/plain": [
       "array([  nan, 2009., 2012., 2013., 2014., 2011., 2010., 2016., 2015.,\n",
       "       2017., 2008., 2007., 2018.])"
      ]
     },
     "execution_count": 76,
     "metadata": {},
     "output_type": "execute_result"
    }
   ],
   "source": [
    "annotations.Year.unique()"
   ]
  },
  {
   "cell_type": "markdown",
   "metadata": {},
   "source": [
    "Plot the stemcell only PCA (and save it)."
   ]
  },
  {
   "cell_type": "code",
   "execution_count": 82,
   "metadata": {
    "scrolled": true
   },
   "outputs": [],
   "source": [
    "plot_pca(pca_coords, pluripotent_annotations,pca, \\\n",
    "                   labels=['generic_sample_type', 'Platform_Category', 'Dataset', 'LM_Group_COLOR', 'Day', 'Year', 'Feeder'], \\\n",
    "                   colour_dict={\"Unannotated\":\"grey\"}, pcs=[1,2,3], \\\n",
    "                   out_file='/Users/pwangel/Downloads/pluripotent_only_atlas_with_external.html')"
   ]
  },
  {
   "cell_type": "code",
   "execution_count": 80,
   "metadata": {},
   "outputs": [],
   "source": [
    "from plotly.offline import download_plotlyjs, init_notebook_mode, plot, iplot\n",
    "from plotly.graph_objs import *\n",
    "import plotly.figure_factory as ff\n",
    "import plotly.io"
   ]
  },
  {
   "cell_type": "code",
   "execution_count": 81,
   "metadata": {},
   "outputs": [],
   "source": [
    "more_colour_list = ['red', 'green', 'black', 'yellow', 'brown', 'coral', 'sandybrown', 'darkorange', 'olive', 'limegreen', 'lightseagreen']\n",
    "\n",
    "def plot_pca(pca_coords, annotations, pca, labels, colour_dict, pcs=[1,2,3], out_file=None):\n",
    "\n",
    "    '''\n",
    "    Generate PCA plot of Atlas\n",
    "\n",
    "    Parameters\n",
    "    ----------\n",
    "\n",
    "    pca_coords\n",
    "        coordinates of each sample in pca space, n_samplesxn_dimensions sized np array. Can be a list of such arrays\n",
    "\n",
    "    annotations\n",
    "        Metadata datafrane, index as samples, columns as properties \n",
    "        Must have a 'Platform_Category' column\n",
    "        Can be a list of such dataframes\n",
    "\n",
    "    pca\n",
    "        sklearn pca, already been fitted\n",
    "\n",
    "    labels\n",
    "        list of metadata labels to plot, e.g. ['Dataset', 'celltype', 'Platform_Category']\n",
    "\n",
    "    colour_dict\n",
    "        colours to used to plot in a dictionary format\n",
    "\n",
    "    '''\n",
    "\n",
    "    if isinstance(pca_coords, np.ndarray):\n",
    "        pca_coords = [pca_coords]\n",
    "        annotations = [annotations]\n",
    "\n",
    "    visibility_df = pd.DataFrame(columns=['type', 'label'])\n",
    "\n",
    "    counter = 0\n",
    "    for i_label in labels:\n",
    "        for i_annotation in annotations:\n",
    "            if (i_annotation[i_label].dtype==np.float64()) and (i_label!='Dataset'):\n",
    "                visibility_df.loc[counter] = [i_label+'Cont', i_label]\n",
    "                counter+=1\n",
    "                visibility_df.loc[counter] = [i_label+'Nan', i_label]\n",
    "                counter+=1\n",
    "            else:\n",
    "                for i_type in i_annotation[i_label].unique().astype(str):\n",
    "                    visibility_df.loc[counter] = [i_type, i_label]\n",
    "                    counter+=1\n",
    "\n",
    "    extended_colour_dict = {visibility_df.type.unique()[i_key]:more_colour_list[i_key%len(more_colour_list)] for i_key in \\\n",
    "                            range(visibility_df.type.unique().shape[0]) if visibility_df.type.unique()[i_key] not in colour_dict.keys()}\n",
    "    colour_dict.update(extended_colour_dict)\n",
    "\n",
    "    fig = Figure()\n",
    "\n",
    "    button_list = []\n",
    "    for i_label in labels:\n",
    "\n",
    "        visibility_list = (visibility_df.label.values==i_label).tolist()\n",
    "\n",
    "        for i in range(len(annotations)):\n",
    "            i_annotation = annotations[i]\n",
    "            i_pca_coords = pca_coords[i]\n",
    "\n",
    "            if (i==0) and len(annotations)>1:\n",
    "                opac = 0.3\n",
    "            else:\n",
    "                opac = 0.9\n",
    "\n",
    "            if (i_annotation[i_label].dtype==np.float64()) and (i_label!='Dataset'):\n",
    "\n",
    "                sel_not_nan = ~pd.isnull(i_annotation[i_label]).values   \n",
    "                fig.add_trace(Scatter3d(x=i_pca_coords[sel_not_nan,pcs[0]-1], y=i_pca_coords[sel_not_nan,pcs[1]-1], z=i_pca_coords[sel_not_nan,pcs[2]-1], \n",
    "                    mode='markers', text=[str(i)+'<br>'+str(j) for i, j in zip(i_annotation[i_label].values[sel_not_nan], i_annotation.display_metadata.values[sel_not_nan])], \n",
    "                    opacity=opac, name=i_label, visible=False, \n",
    "                    marker=dict(size=5, color=i_annotation[i_label].values[sel_not_nan],\n",
    "                    colorscale = 'viridis', colorbar=dict(thickness=20))))\n",
    "\n",
    "                fig.add_trace(Scatter3d(x=i_pca_coords[~sel_not_nan,pcs[0]-1], y=i_pca_coords[~sel_not_nan,pcs[1]-1], z=i_pca_coords[~sel_not_nan,pcs[2]-1], \n",
    "                    mode='markers', text=i_annotation.display_metadata.values[~sel_not_nan], \n",
    "                    opacity=0.3, name=i_label, visible=False, \n",
    "                    marker=dict(size=5, color='grey')))\n",
    "            else:\n",
    "                for i_type in i_annotation[i_label].unique().astype(str):\n",
    "    \n",
    "                    sel = i_annotation[i_label].values.astype(str) == i_type \n",
    "                    i_colour = colour_dict[i_type]\n",
    "\n",
    "                    fig.add_trace(Scatter3d(x=i_pca_coords[sel,pcs[0]-1], y=i_pca_coords[sel,pcs[1]-1], z=i_pca_coords[sel,pcs[2]-1], \n",
    "                        mode='markers', text=i_annotation.display_metadata.values[sel], \n",
    "                        opacity=opac, name=i_type, visible=False, \n",
    "                        marker=dict(size=5, color=i_colour)))\n",
    "        \n",
    "        button_list.append(dict(label=i_label,\n",
    "                                method=\"update\",\n",
    "                                args=[{\"visible\": visibility_list},\n",
    "                                    {\"title\": i_label}]))\n",
    "      \n",
    "        fig.update_layout(\n",
    "            updatemenus=[dict(active=0,buttons=button_list,)],\n",
    "            scene = dict(xaxis_title='PC%d %%%.2f' %(pcs[0], pca.explained_variance_ratio_[pcs[0]-1]*100),\n",
    "                         yaxis_title='PC%d %%%.2f' %(pcs[1], pca.explained_variance_ratio_[pcs[1]-1]*100),\n",
    "                         zaxis_title='PC%d %%%.2f' %(pcs[2], pca.explained_variance_ratio_[pcs[2]-1]*100))\n",
    "            )\n",
    "\n",
    "    if out_file is not None:\n",
    "        plot(fig, auto_open=False, filename=out_file) \n",
    "    else:\n",
    "        iplot(fig)"
   ]
  },
  {
   "cell_type": "code",
   "execution_count": null,
   "metadata": {},
   "outputs": [],
   "source": []
  }
 ],
 "metadata": {
  "kernelspec": {
   "display_name": "Python 3",
   "language": "python",
   "name": "python3"
  },
  "language_info": {
   "codemirror_mode": {
    "name": "ipython",
    "version": 3
   },
   "file_extension": ".py",
   "mimetype": "text/x-python",
   "name": "python",
   "nbconvert_exporter": "python",
   "pygments_lexer": "ipython3",
   "version": "3.7.5"
  }
 },
 "nbformat": 4,
 "nbformat_minor": 4
}
