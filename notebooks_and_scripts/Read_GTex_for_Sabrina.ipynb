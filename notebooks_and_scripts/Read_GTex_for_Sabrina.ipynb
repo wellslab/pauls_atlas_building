{
 "cells": [
  {
   "cell_type": "code",
   "execution_count": 30,
   "metadata": {},
   "outputs": [],
   "source": [
    "import pandas as pd\n",
    "import numpy as np\n",
    "\n",
    "meta = pd.read_csv('/Users/pwangel/Downloads/GTEx_Analysis_v8_Annotations_SampleAttributesDS.txt', sep='\\t', index_col=0)"
   ]
  },
  {
   "cell_type": "markdown",
   "metadata": {},
   "source": [
    "This notebooks extracts data from gtex according to sample tissue of origin. Data is from https://www.gtexportal.org/home/datasets. This script is necessary as gtex provides data as one single giant aggregate matrix which is difficult to read into memory. Here we are just breaking it up into smaller bits. "
   ]
  },
  {
   "cell_type": "markdown",
   "metadata": {},
   "source": [
    "Sabrinas list of cell types (tissues) she wants"
   ]
  },
  {
   "cell_type": "code",
   "execution_count": 27,
   "metadata": {},
   "outputs": [],
   "source": [
    "categories = [[\n",
    "'Brain - Putamen (basal ganglia)',\n",
    "'Brain - Nucleus accumbens (basal ganglia)',\n",
    "'Brain - Caudate (basal ganglia)',\n",
    "'Brain - Cerebellum',\n",
    "'Brain - Cerebellar Hemisphere',\n",
    "'Brain - Anterior cingulate cortex (BA24)',\n",
    "'Brain - Frontal Cortex (BA9)',\n",
    "'Brain - Cortex',\n",
    "'Brain - Hypothalamus',\n",
    "'Brain - Hippocampus',\n",
    "'Brain - Amygdala',\n",
    "'Brain - Substantia nigra',\n",
    "'Brain - Spinal cord (cervical c-1)',\n",
    "'Nerve - Tibial'\n",
    "],[\n",
    "'Artery - Tibial',\n",
    "'Artery - Coronary',\n",
    "'Artery - Aorta',\n",
    "'Heart - Atrial Appendage'\n",
    "'Lung'\n",
    "],[\n",
    "'Small Intestine - Terminal Ileum',\n",
    "'Colon - Sigmoid',\n",
    "'Colon - Transverse',\n",
    "'Esophagus - Muscularis',\n",
    "'Esophagus - Gastroesophageal Junction',\n",
    "'Stomach'\n",
    "],[\n",
    "'Pituitary',\n",
    "'Thyroid',\n",
    "'Adrenal Gland',\n",
    "'Liver'\n",
    "]]\n",
    "names = ['CNS', 'Cardiovascular', 'ENS', 'Endocrine']"
   ]
  },
  {
   "cell_type": "code",
   "execution_count": 70,
   "metadata": {
    "scrolled": true
   },
   "outputs": [],
   "source": [
    "for i_cat, i_name in zip(categories, names):\n",
    "    samples = meta.loc[np.in1d(meta['SMTSD'].values, i_cat)&(meta['SMAFRZE']=='RNASEQ')].index.astype(str).tolist()\n",
    "    data = pd.read_csv('/Users/pwangel/Downloads/GTEx_Analysis_2017-06-05_v8_RNASeQCv1.1.9_gene_tpm.gct', sep='\\t', usecols=samples, skiprows=2)\n",
    "    data.to_csv('/Users/pwangel/Downloads/GTEx_Analysis_2017-06-05_v8_RNASeQCv1.1.9_gene_tpm_%s.gct' %i_name, sep='\\t')"
   ]
  },
  {
   "cell_type": "code",
   "execution_count": null,
   "metadata": {},
   "outputs": [],
   "source": []
  }
 ],
 "metadata": {
  "kernelspec": {
   "display_name": "Python 3",
   "language": "python",
   "name": "python3"
  },
  "language_info": {
   "codemirror_mode": {
    "name": "ipython",
    "version": 3
   },
   "file_extension": ".py",
   "mimetype": "text/x-python",
   "name": "python",
   "nbconvert_exporter": "python",
   "pygments_lexer": "ipython3",
   "version": "3.7.5"
  }
 },
 "nbformat": 4,
 "nbformat_minor": 4
}
