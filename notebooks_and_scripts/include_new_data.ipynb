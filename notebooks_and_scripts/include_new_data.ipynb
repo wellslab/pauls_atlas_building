{
 "cells": [
  {
   "cell_type": "markdown",
   "metadata": {},
   "source": [
    "This is a notebook to include new dc samples in the blood and myeloid atlases."
   ]
  },
  {
   "cell_type": "code",
   "execution_count": 21,
   "metadata": {},
   "outputs": [],
   "source": [
    "import numpy as np\n",
    "import pandas as pd\n",
    "import sklearn\n",
    "import gc\n",
    "import functions\n",
    "import scipy"
   ]
  },
  {
   "cell_type": "code",
   "execution_count": 22,
   "metadata": {},
   "outputs": [],
   "source": [
    "ensembl_to_symbol = pd.read_csv('/Users/pwangel/Data/ensembl_hg38.91/gene_to_symbol_ensembl91_human.tsv', sep='\\t', index_col=0, names=['symbol'])"
   ]
  },
  {
   "cell_type": "code",
   "execution_count": 23,
   "metadata": {},
   "outputs": [],
   "source": [
    "blood_atlas_colours = pd.read_csv('/Users/pwangel/Data/Metadata_dumps/blood_atlas_colours.tsv', sep='\\t').set_index('Sample Source')\n",
    "blood_atlas_colours = {key:value[0] for key, value in zip(blood_atlas_colours.index.values, blood_atlas_colours.values)}"
   ]
  },
  {
   "cell_type": "markdown",
   "metadata": {},
   "source": [
    "Reading in blood data first. Annoyingly have to switch the format of the sample ids"
   ]
  },
  {
   "cell_type": "code",
   "execution_count": 24,
   "metadata": {
    "scrolled": true
   },
   "outputs": [
    {
     "name": "stdout",
     "output_type": "stream",
     "text": [
      "(13661, 835) (835, 4)\n",
      "(16564, 341) (203, 3)\n",
      "(16564, 190) (190, 4)\n",
      "[]\n"
     ]
    }
   ],
   "source": [
    "data           = pd.read_csv('/Users/pwangel/Downloads/blood_atlas_expression_v7.1.tsv', sep='\\t', index_col=0)\n",
    "annotations    = pd.read_csv('/Users/pwangel/Downloads/blood_atlas_samples_v7.1.tsv', sep='\\t', index_col=0)\n",
    "annotations = annotations.merge(\\\n",
    "    pd.read_csv('/Users/pwangel/PlotlyWorkspace/combine_data/blood/outputs_for_front_end/blood_atlas_annotations.tsv', sep='\\t', index_col=0)['Platform_Category'],\\\n",
    "    how='left', left_index=True, right_index=True)\n",
    "data.columns = [i.split(';')[1]+'_'+i.split(';')[0] for i in data.columns.values.astype(str)]\n",
    "annotations.index = [i.split(';')[1]+'_'+i.split(';')[0] for i in annotations.index.values.astype(str)]\n",
    "data = data[annotations.index]\n",
    "\n",
    "print(data.shape, annotations.shape)\n",
    "\n",
    "ext_data       = pd.read_csv('/Users/pwangel/Downloads/dc_atlas_expression_v1.3.tsv', sep='\\t', index_col=0)\n",
    "\n",
    "ext_annotations = pd.read_csv('/Users/pwangel/Downloads/dc_bloodatlas_nadia_moresamples.txt', sep='\\t', index_col=0)\n",
    "ext_annotations.index = [i.split(';')[1]+'_'+i.split(';')[0] for i in ext_annotations.index.values.astype(str)]\n",
    "ext_annotations = ext_annotations.loc[[i.split('_')[0]!='3378' for i in ext_annotations.index.astype(str)]] #Apparently dataset 3378 is duplicated from 6612 and does not belong\n",
    "\n",
    "print(ext_data.shape, ext_annotations.shape)\n",
    "\n",
    "ext_annotations = ext_annotations.merge(\\\n",
    "    pd.read_csv('/Users/pwangel/Downloads/dc_atlas_samples_v1.3.tsv', sep='\\t', index_col=0)['Platform Category'], \\\n",
    "    how='inner', left_index=True, right_index=True)\n",
    "ext_data = ext_data[ext_annotations.index]\n",
    "\n",
    "print(ext_data.shape, ext_annotations.shape)\n",
    "print(np.intersect1d(ext_annotations.index, annotations.index))"
   ]
  },
  {
   "cell_type": "code",
   "execution_count": 25,
   "metadata": {
    "scrolled": false
   },
   "outputs": [
    {
     "name": "stdout",
     "output_type": "stream",
     "text": [
      "Index(['Cell Type', 'Sample Source', 'Progenitor Type', 'Platform Category'], dtype='object')\n",
      "Index(['Cell Type', 'Sample Source', 'Progenitor Type', 'Platform_Category'], dtype='object')\n"
     ]
    }
   ],
   "source": [
    "print(ext_annotations.columns)\n",
    "print(annotations.columns)\n",
    "ext_annotations.rename(columns={\"Platform Category\":\"Platform_Category\"}, inplace=True)"
   ]
  },
  {
   "cell_type": "code",
   "execution_count": 26,
   "metadata": {
    "scrolled": true
   },
   "outputs": [],
   "source": [
    "data = data.merge(ext_data, how='inner', left_index=True, right_index=True)\n",
    "annotations = pd.concat([annotations, ext_annotations])"
   ]
  },
  {
   "cell_type": "code",
   "execution_count": 27,
   "metadata": {},
   "outputs": [],
   "source": [
    "data = functions.transform_to_percentile(data)"
   ]
  },
  {
   "cell_type": "markdown",
   "metadata": {},
   "source": [
    "Only need to compute gene variance fraction if not done already, in the above we have already read a previously calculated version into the gene dataframe"
   ]
  },
  {
   "cell_type": "code",
   "execution_count": 28,
   "metadata": {},
   "outputs": [],
   "source": [
    "genes = functions.calculate_platform_dependence(data, annotations)\n",
    "genes['inclusion'] = (genes.Platform_VarFraction <=0.2)\n",
    "genes = genes.merge(ensembl_to_symbol, how='left', left_index=True, right_index=True)\n",
    "genes.index.name='ensembl'\n",
    "genes.to_csv('/Users/pwangel/Downloads/blood_atlas_genes_v2.tsv', sep='\\t') \n",
    "#genes = pd.read_csv('/Users/pwangel/Downloads/blood_atlas_genes_v2.tsv', sep='\\t', index_col=0)\n",
    "annotations.to_csv('/Users/pwangel/Downloads/blood_atlas_samples_v2.tsv', sep='\\t')\n",
    "data.to_csv('/Users/pwangel/Downloads/blood_atlas_expression_v2.tsv', sep='\\t')\n",
    "data.loc[genes.loc[genes.inclusion].index].to_csv('/Users/pwangel/Downloads/blood_atlas_expression_v2.filtered.tsv', sep='\\t')"
   ]
  },
  {
   "cell_type": "code",
   "execution_count": 29,
   "metadata": {},
   "outputs": [],
   "source": [
    "pca        = sklearn.decomposition.PCA(n_components=10, svd_solver='full')\n",
    "pca.fit(functions.transform_to_percentile(data.loc[genes.Platform_VarFraction.values<=0.2]).transpose())\n",
    "pca_coords = pca.transform(functions.transform_to_percentile(data.loc[genes.Platform_VarFraction.values<=0.2]).transpose())\n",
    "pd.DataFrame(data=pca_coords, index=annotations.index, columns = ['PCA'+str(i) for i in range(1,11)]).to_csv('/Users/pwangel/Downloads/blood_atlas_coordinates_v2.tsv', sep='\\t')"
   ]
  },
  {
   "cell_type": "markdown",
   "metadata": {},
   "source": [
    "Plot the pca"
   ]
  },
  {
   "cell_type": "code",
   "execution_count": 30,
   "metadata": {},
   "outputs": [],
   "source": [
    "annotations['display_metadata'] = annotations.index\n",
    "functions.plot_pca(pca_coords, annotations,pca, \\\n",
    "                   labels=['Cell Type', 'Sample Source', 'Progenitor Type', 'Platform_Category'], colour_dict=blood_atlas_colours, out_file='/Users/pwangel/Downloads/blood_atlas_with_ext_dc.html')"
   ]
  },
  {
   "cell_type": "code",
   "execution_count": 31,
   "metadata": {},
   "outputs": [],
   "source": [
    "myeloid_atlas_colours = pd.read_csv('/Users/pwangel/Data/Metadata_dumps/imac_atlas_colours.tsv', sep='\\t').set_index('Sample Source')\n",
    "myeloid_atlas_colours = {key:value[0] for key, value in zip(myeloid_atlas_colours.index.values, myeloid_atlas_colours.values)}"
   ]
  },
  {
   "cell_type": "code",
   "execution_count": 32,
   "metadata": {
    "scrolled": true
   },
   "outputs": [
    {
     "name": "stdout",
     "output_type": "stream",
     "text": [
      "(13092, 901) (901, 7)\n",
      "(16564, 341) (152, 7)\n",
      "(16564, 139) (139, 8)\n",
      "[]\n"
     ]
    }
   ],
   "source": [
    "data           = pd.read_csv('/Users/pwangel/Downloads/myeloid_atlas_expression_v7.1.tsv', sep='\\t', index_col=0)\n",
    "annotations    = pd.read_csv('/Users/pwangel/Downloads/myeloid_atlas_samples_v7.1 (3).tsv', sep='\\t', index_col=0)\n",
    "data.columns = [i.split(';')[1]+'_'+i.split(';')[0] for i in data.columns.values.astype(str)]\n",
    "annotations.index = [i.split(';')[1]+'_'+i.split(';')[0] for i in annotations.index.values.astype(str)]\n",
    "data = data[annotations.index]\n",
    "\n",
    "print(data.shape, annotations.shape)\n",
    "\n",
    "ext_data       = pd.read_csv('/Users/pwangel/Downloads/dc_atlas_expression_v1.3.tsv', sep='\\t', index_col=0)\n",
    "\n",
    "ext_annotations = pd.read_csv('/Users/pwangel/Downloads/dc_myeloidatlas_nadia.txt', sep='\\t', index_col=0)\n",
    "ext_annotations.index = [i.split(';')[1]+'_'+i.split(';')[0] for i in ext_annotations.index.values.astype(str)]\n",
    "ext_annotations = ext_annotations.loc[[i.split('_')[0]!='3378' for i in ext_annotations.index.astype(str)]] #Apparently dataset 3378 is duplicated from 6612 and does not belong\n",
    "\n",
    "print(ext_data.shape, ext_annotations.shape)\n",
    "\n",
    "ext_annotations = ext_annotations.merge(\\\n",
    "    pd.read_csv('/Users/pwangel/Downloads/dc_atlas_samples_v1.3.tsv', sep='\\t', index_col=0)['Platform Category'], \\\n",
    "    how='inner', left_index=True, right_index=True)\n",
    "ext_data = ext_data[ext_annotations.index]\n",
    "\n",
    "print(ext_data.shape, ext_annotations.shape)\n",
    "print(np.intersect1d(ext_annotations.index, annotations.index))"
   ]
  },
  {
   "cell_type": "code",
   "execution_count": 33,
   "metadata": {
    "scrolled": false
   },
   "outputs": [
    {
     "name": "stdout",
     "output_type": "stream",
     "text": [
      "Index(['Cell Type', 'Activation Status', 'Sample Source', 'Progenitor Type',\n",
      "       'Disease State', 'Tissue', 'Platform_Category', 'Platform Category'],\n",
      "      dtype='object')\n",
      "Index(['Sample Source', 'Progenitor Type', 'Cell Type', 'Activation Status',\n",
      "       'Tissue', 'Disease State', 'Platform Category'],\n",
      "      dtype='object')\n"
     ]
    }
   ],
   "source": [
    "print(ext_annotations.columns)\n",
    "print(annotations.columns)\n",
    "annotations.rename(columns={\"Platform Category\":\"Platform_Category\"}, inplace=True)"
   ]
  },
  {
   "cell_type": "code",
   "execution_count": 34,
   "metadata": {
    "scrolled": true
   },
   "outputs": [
    {
     "name": "stderr",
     "output_type": "stream",
     "text": [
      "/Users/pwangel/anaconda3/envs/scanpy/lib/python3.7/site-packages/ipykernel_launcher.py:2: FutureWarning:\n",
      "\n",
      "Sorting because non-concatenation axis is not aligned. A future version\n",
      "of pandas will change to not sort by default.\n",
      "\n",
      "To accept the future behavior, pass 'sort=False'.\n",
      "\n",
      "To retain the current behavior and silence the warning, pass 'sort=True'.\n",
      "\n",
      "\n"
     ]
    }
   ],
   "source": [
    "data = data.merge(ext_data, how='inner', left_index=True, right_index=True)\n",
    "annotations = pd.concat([annotations, ext_annotations])"
   ]
  },
  {
   "cell_type": "code",
   "execution_count": 35,
   "metadata": {},
   "outputs": [],
   "source": [
    "data = functions.transform_to_percentile(data)"
   ]
  },
  {
   "cell_type": "code",
   "execution_count": 36,
   "metadata": {},
   "outputs": [],
   "source": [
    "genes = functions.calculate_platform_dependence(data, annotations)\n",
    "genes['inclusion'] = (genes.Platform_VarFraction <=0.2)\n",
    "genes = genes.merge(ensembl_to_symbol, how='left', left_index=True, right_index=True)\n",
    "genes.index.name='ensembl'\n",
    "genes.to_csv('/Users/pwangel/Downloads/myeloid_atlas_genes_v2.tsv', sep='\\t') \n",
    "#genes = pd.read_csv('/Users/pwangel/Downloads/myeloid_atlas_genes_v2.tsv', sep='\\t', index_col=0)\n",
    "annotations.to_csv('/Users/pwangel/Downloads/myeloid_atlas_samples_v2.tsv', sep='\\t')\n",
    "data.to_csv('/Users/pwangel/Downloads/myeloid_atlas_expression_v2.tsv', sep='\\t')\n",
    "data.loc[genes.loc[genes.inclusion].index].to_csv('/Users/pwangel/Downloads/myeloid_atlas_expression_v2.filtered.tsv', sep='\\t')"
   ]
  },
  {
   "cell_type": "code",
   "execution_count": 37,
   "metadata": {},
   "outputs": [],
   "source": [
    "pca        = sklearn.decomposition.PCA(n_components=10, svd_solver='full')\n",
    "pca.fit(functions.transform_to_percentile(data.loc[genes.Platform_VarFraction.values<=0.2]).transpose())\n",
    "pca_coords = pca.transform(functions.transform_to_percentile(data.loc[genes.Platform_VarFraction.values<=0.2]).transpose())\n",
    "pd.DataFrame(data=pca_coords, index=annotations.index, columns = ['PCA'+str(i) for i in range(1,11)]).to_csv('/Users/pwangel/Downloads/myeloid_atlas_coordinates_v2.tsv', sep='\\t')"
   ]
  },
  {
   "cell_type": "code",
   "execution_count": 38,
   "metadata": {},
   "outputs": [],
   "source": [
    "annotations['display_metadata'] = annotations.index\n",
    "functions.plot_pca(pca_coords, annotations,pca, \\\n",
    "                   labels=['Cell Type', 'Sample Source', 'Progenitor Type', 'Platform_Category'], colour_dict=blood_atlas_colours, out_file='/Users/pwangel/Downloads/myeloid_atlas_with_ext_dc.html')"
   ]
  }
 ],
 "metadata": {
  "kernelspec": {
   "display_name": "Python 3",
   "language": "python",
   "name": "python3"
  },
  "language_info": {
   "codemirror_mode": {
    "name": "ipython",
    "version": 3
   },
   "file_extension": ".py",
   "mimetype": "text/x-python",
   "name": "python",
   "nbconvert_exporter": "python",
   "pygments_lexer": "ipython3",
   "version": "3.7.5"
  }
 },
 "nbformat": 4,
 "nbformat_minor": 4
}
